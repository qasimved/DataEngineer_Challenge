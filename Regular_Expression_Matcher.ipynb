{
    "metadata": {
        "kernelspec": {
            "name": "python3",
            "display_name": "Python 3 (ipykernel)",
            "language": "python"
        },
        "language_info": {
            "name": "python",
            "version": "3.9.7",
            "mimetype": "text/x-python",
            "codemirror_mode": {
                "name": "ipython",
                "version": 3
            },
            "pygments_lexer": "ipython3",
            "nbconvert_exporter": "python",
            "file_extension": ".py"
        }
    },
    "nbformat_minor": 2,
    "nbformat": 4,
    "cells": [
        {
            "cell_type": "markdown",
            "source": [
                "<span style=\"font-size: 11pt; font-family: Arial; color: rgb(35, 38, 41); background-color: transparent; font-variant-numeric: normal; font-variant-east-asian: normal; vertical-align: baseline; white-space: pre-wrap;\">Task 3 – Home-made regular expression matcher</span>\n",
                "\n",
                "<span style=\"font-size: 11pt; font-family: Arial; color: rgb(35, 38, 41); background-color: transparent; font-variant-numeric: normal; font-variant-east-asian: normal; vertical-align: baseline; white-space: pre-wrap;\">The aim of this task is to write a program that decides whether a given string </span> <span style=\"font-size: 11pt; font-family: Arial; color: rgb(35, 38, 41); background-color: transparent; font-style: italic; font-variant-numeric: normal; font-variant-east-asian: normal; vertical-align: baseline; white-space: pre-wrap;\">s </span> <span style=\"font-size: 11pt; font-family: Arial; color: rgb(35, 38, 41); background-color: transparent; font-variant-numeric: normal; font-variant-east-asian: normal; vertical-align: baseline; white-space: pre-wrap;\">matches a given pattern </span> <span style=\"font-size: 11pt; font-family: Arial; color: rgb(35, 38, 41); background-color: transparent; font-style: italic; font-variant-numeric: normal; font-variant-east-asian: normal; vertical-align: baseline; white-space: pre-wrap;\">p</span><span style=\"font-size: 11pt; font-family: Arial; color: rgb(35, 38, 41); background-color: transparent; font-variant-numeric: normal; font-variant-east-asian: normal; vertical-align: baseline; white-space: pre-wrap;\">. The patterns will be defined using a simplified version of the usual language of Regular Expressions that consists only of the following 3 elements:</span>\n",
                "\n",
                "1. <span style=\"font-size: 11pt; background-color: transparent; font-variant-numeric: normal; font-variant-east-asian: normal; vertical-align: baseline; white-space: pre-wrap;\">Lower-case characters </span> <span style=\"font-size: 11pt; background-color: transparent; font-style: italic; font-variant-numeric: normal; font-variant-east-asian: normal; vertical-align: baseline; white-space: pre-wrap;\">a-z</span><span style=\"font-size: 11pt; background-color: transparent; font-variant-numeric: normal; font-variant-east-asian: normal; vertical-align: baseline; white-space: pre-wrap;\">, which match themselves.</span>\n",
                "    \n",
                "2. <span style=\"font-size: 11pt; background-color: transparent; font-variant-numeric: normal; font-variant-east-asian: normal; vertical-align: baseline; white-space: pre-wrap;\">The dot . that matches any lower-case character a-z</span>\n",
                "    \n",
                "3. <span style=\"font-size: 11pt; background-color: transparent; font-variant-numeric: normal; font-variant-east-asian: normal; vertical-align: baseline; white-space: pre-wrap;\">The star * that must always follow either a lower-case character </span> <span style=\"font-size: 11pt; background-color: transparent; font-style: italic; font-variant-numeric: normal; font-variant-east-asian: normal; vertical-align: baseline; white-space: pre-wrap;\">a-z </span> <span style=\"font-size: 11pt; background-color: transparent; font-variant-numeric: normal; font-variant-east-asian: normal; vertical-align: baseline; white-space: pre-wrap;\">or the dot. The pair of these two symbols then matches 0 or more occurrences of any character that the first symbol of the pair would match.</span>\n",
                "    \n",
                "\n",
                "<span style=\"font-size: 11pt; font-family: Arial; color: rgb(35, 38, 41); background-color: transparent; font-variant-numeric: normal; font-variant-east-asian: normal; vertical-align: baseline; white-space: pre-wrap;\">Your solution should be a function that takes two arguments </span> <span style=\"font-size: 11pt; font-family: Arial; color: rgb(35, 38, 41); background-color: transparent; font-style: italic; font-variant-numeric: normal; font-variant-east-asian: normal; vertical-align: baseline; white-space: pre-wrap;\">s </span> <span style=\"font-size: 11pt; font-family: Arial; color: rgb(35, 38, 41); background-color: transparent; font-variant-numeric: normal; font-variant-east-asian: normal; vertical-align: baseline; white-space: pre-wrap;\">and </span> <span style=\"font-size: 11pt; font-family: Arial; color: rgb(35, 38, 41); background-color: transparent; font-style: italic; font-variant-numeric: normal; font-variant-east-asian: normal; vertical-align: baseline; white-space: pre-wrap;\">p </span> <span style=\"font-size: 11pt; font-family: Arial; color: rgb(35, 38, 41); background-color: transparent; font-variant-numeric: normal; font-variant-east-asian: normal; vertical-align: baseline; white-space: pre-wrap;\">and returns a Boolean value that indicates whether </span> <span style=\"font-size: 11pt; font-family: Arial; color: rgb(35, 38, 41); background-color: transparent; font-style: italic; font-variant-numeric: normal; font-variant-east-asian: normal; vertical-align: baseline; white-space: pre-wrap;\">s </span> <span style=\"font-size: 11pt; font-family: Arial; color: rgb(35, 38, 41); background-color: transparent; font-variant-numeric: normal; font-variant-east-asian: normal; vertical-align: baseline; white-space: pre-wrap;\">matches the pattern </span> <span style=\"font-size: 11pt; font-family: Arial; color: rgb(35, 38, 41); background-color: transparent; font-style: italic; font-variant-numeric: normal; font-variant-east-asian: normal; vertical-align: baseline; white-space: pre-wrap;\">p</span><span style=\"font-size: 11pt; font-family: Arial; color: rgb(35, 38, 41); background-color: transparent; font-variant-numeric: normal; font-variant-east-asian: normal; vertical-align: baseline; white-space: pre-wrap;\">. Your program should also verify whether the given pattern is valid within the language defined above. It should not use any library for working with Regular Expressions (for example the </span> <span style=\"font-size: 11pt; font-family: Arial; color: rgb(35, 38, 41); background-color: transparent; font-style: italic; font-variant-numeric: normal; font-variant-east-asian: normal; vertical-align: baseline; white-space: pre-wrap;\">re </span> <span style=\"font-size: 11pt; font-family: Arial; color: rgb(35, 38, 41); background-color: transparent; font-variant-numeric: normal; font-variant-east-asian: normal; vertical-align: baseline; white-space: pre-wrap;\">module in Python) – we would like to see you implement the algorithm on your own.</span>\n",
                "\n",
                "<span style=\"font-size: 11pt; font-family: Arial; color: rgb(35, 38, 41); background-color: transparent; font-variant-numeric: normal; font-variant-east-asian: normal; vertical-align: baseline; white-space: pre-wrap;\">You can use any programming language. If you use any other language than Python (or a Jupyter notebook) please also include instructions on how to execute the program.</span>\n",
                "\n",
                "<span style=\"font-size: 11pt; font-family: Arial; color: rgb(35, 38, 41); background-color: transparent; font-variant-numeric: normal; font-variant-east-asian: normal; vertical-align: baseline; white-space: pre-wrap;\">The following could be examples of inputs and expected outputs of your function:</span>\n",
                "\n",
                "- <span style=\"font-size: 11pt; background-color: transparent; font-variant-numeric: normal; font-variant-east-asian: normal; vertical-align: baseline; white-space: pre-wrap;\">For p = “aa*b.” and s = “abc” the answer should be True</span>\n",
                "    \n",
                "- <span style=\"font-size: 11pt; background-color: transparent; font-variant-numeric: normal; font-variant-east-asian: normal; vertical-align: baseline; white-space: pre-wrap;\">For p = “aa*b.” and s = “aaaab” the answer should be False</span>\n",
                "    \n",
                "- <span style=\"font-size: 11pt; background-color: transparent; font-variant-numeric: normal; font-variant-east-asian: normal; vertical-align: baseline; white-space: pre-wrap;\">For p = “.*bc” and s = “abcabc” the answer should be True</span>\n",
                "    \n",
                "- <span style=\"font-size: 11pt; background-color: transparent; font-variant-numeric: normal; font-variant-east-asian: normal; vertical-align: baseline; white-space: pre-wrap;\">For p = “aa**b.” and s = “abc” your program should print an error because the pattern is invalid. It contains a star that is not preceded by a lower-case letter or a dot.</span>"
            ],
            "metadata": {
                "azdata_cell_guid": "9f179489-55c4-4795-bb5d-a51a688eb834"
            },
            "attachments": {}
        },
        {
            "cell_type": "code",
            "source": [
                "def check_expression(p: str, s:str) -> tuple[bool, str]:\n",
                "    star = '*'\n",
                "    dot = '.'\n",
                "    star_indexes = [pos for pos, char in enumerate(p) if char == star]\n",
                "    dot_indexes = [pos for pos, char in enumerate(p) if char == dot]\n",
                "    for x in range(len(star_indexes)):\n",
                "        if star_indexes[x] == 0:\n",
                "            return False, \"Invalid patterns * can not be added in the start\"\n",
                "        elif x < len(star_indexes)-1 and star_indexes[x] == star_indexes[x+1] - 1:\n",
                "            return False, \"Invalid patteren * cannot be followed by another *\"\n",
                "    p_index = -1\n",
                "    value_index = -1\n",
                "    for x in range(len(s)):\n",
                "        value_index = x\n",
                "        if x > len(s)-1:\n",
                "            return True\n",
                "        if p_index == -1:\n",
                "            p_index = p_index + 1\n",
                "        elif p_index+1 < len(p) and p[p_index] == '*' and p[p_index+1] == s[x]:\n",
                "            p_index = p_index + 1\n",
                "        elif p_index+1 < len(p) and p[p_index+1] == '*' and p[p_index+2] == s[x]:\n",
                "            p_index = p_index + 1\n",
                "        elif p_index+2 < len(p) and p[p_index+2] == '*':\n",
                "            p_index = p_index + 2\n",
                "        elif p[p_index] != '*':\n",
                "            p_index = p_index + 1\n",
                "        elif p[p_index] == s[x]:\n",
                "            p_index = p_index + 1\n",
                "        if s[x].isupper():\n",
                "            return False, \"Invalid value, contains upper case\"\n",
                "        elif s[x] != p[p_index] and p[p_index] != '.' and p[p_index] != '*' and p[p_index+1] != '*':\n",
                "            return False, \"Invalid value\"\n",
                "    if(p[len(p)-1] == '.'and p[len(p)-2] != s[len(s)-2]):\n",
                "        return False, \"Invalid Value\"\n",
                "    return True, \"Valid Value\""
            ],
            "metadata": {
                "azdata_cell_guid": "3bddd309-49b5-4dc5-aa03-f745d608bd07",
                "language": "python"
            },
            "outputs": [],
            "execution_count": 21
        },
        {
            "cell_type": "code",
            "source": [
                "expression = \"aa*b.\"\n",
                "value = \"abc\"\n",
                "print(check_expression(expression, value))"
            ],
            "metadata": {
                "azdata_cell_guid": "4dc3c131-6a6c-41dc-8152-5cd426afee34",
                "language": "python"
            },
            "outputs": [
                {
                    "name": "stdout",
                    "text": "(True, 'Valid Value')\n",
                    "output_type": "stream"
                }
            ],
            "execution_count": 17
        },
        {
            "cell_type": "code",
            "source": [
                "expression = \"aa*b.\"\n",
                "value = \"aaaab\"\n",
                "print(check_expression(expression, value))"
            ],
            "metadata": {
                "language": "python",
                "azdata_cell_guid": "534c17d4-220c-4380-ae70-6d6b63c1f23e",
                "tags": []
            },
            "outputs": [
                {
                    "name": "stdout",
                    "text": "(False, 'Invalid Value')\n",
                    "output_type": "stream"
                }
            ],
            "execution_count": 18
        },
        {
            "cell_type": "code",
            "source": [
                "expression = \".*bc\"\n",
                "value = \"abcabc\"\n",
                "print(check_expression(expression, value))"
            ],
            "metadata": {
                "language": "python",
                "azdata_cell_guid": "ad18dfad-7802-4893-9501-be79a881d43d"
            },
            "outputs": [
                {
                    "name": "stdout",
                    "text": "(True, 'Valid Value')\n",
                    "output_type": "stream"
                }
            ],
            "execution_count": 19
        },
        {
            "cell_type": "code",
            "source": [
                "expression = \"aa**b.\"\n",
                "value = \"abc\"\n",
                "print(check_expression(expression, value))"
            ],
            "metadata": {
                "language": "python",
                "azdata_cell_guid": "c67f43e2-1f16-4352-9c89-94cd3c3c63c9"
            },
            "outputs": [
                {
                    "name": "stdout",
                    "text": "(False, 'Invalid patteren * cannot be followed by another *')\n",
                    "output_type": "stream"
                }
            ],
            "execution_count": 20
        },
        {
            "cell_type": "code",
            "source": [
                "expression = \"aa*b.\"\n",
                "value = \"ABC\"\n",
                "print(check_expression(expression, value))"
            ],
            "metadata": {
                "language": "python",
                "azdata_cell_guid": "03e78993-c125-4840-9e81-5575aa51b27a"
            },
            "outputs": [
                {
                    "name": "stdout",
                    "text": "(False, 'Invalid value, contains upper case')\n",
                    "output_type": "stream"
                }
            ],
            "execution_count": 23
        }
    ]
}