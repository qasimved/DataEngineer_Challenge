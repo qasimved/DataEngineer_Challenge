{
    "metadata": {
        "kernelspec": {
            "name": "SQL",
            "display_name": "SQL",
            "language": "sql"
        },
        "language_info": {
            "name": "sql",
            "version": ""
        }
    },
    "nbformat_minor": 2,
    "nbformat": 4,
    "cells": [
        {
            "cell_type": "markdown",
            "source": [
                "<span style=\"font-size: 11pt; font-family: Arial; color: rgb(35, 38, 41); background-color: transparent; font-variant-numeric: normal; font-variant-east-asian: normal; vertical-align: baseline; white-space: pre-wrap;\">You are working as an analyst for a tour operator and would like to run a couple of queries on the following tables.</span>\n",
                "\n",
                "<span style=\"font-size: 11pt; font-family: Arial; color: rgb(35, 38, 41); background-color: transparent; font-variant-numeric: normal; font-variant-east-asian: normal; vertical-align: baseline; white-space: pre-wrap;\">Customer(</span><span style=\"font-size: 11pt; font-family: Arial; color: rgb(35, 38, 41); background-color: transparent; font-style: italic; font-variant-numeric: normal; font-variant-east-asian: normal; vertical-align: baseline; white-space: pre-wrap;\">cid</span><span style=\"font-size: 11pt; font-family: Arial; color: rgb(35, 38, 41); background-color: transparent; font-variant-numeric: normal; font-variant-east-asian: normal; vertical-align: baseline; white-space: pre-wrap;\">: </span> <span style=\"font-size: 11pt; font-family: Arial; color: rgb(35, 38, 41); background-color: transparent; font-weight: 700; font-variant-numeric: normal; font-variant-east-asian: normal; vertical-align: baseline; white-space: pre-wrap;\">integer</span><span style=\"font-size: 11pt; font-family: Arial; color: rgb(35, 38, 41); background-color: transparent; font-variant-numeric: normal; font-variant-east-asian: normal; vertical-align: baseline; white-space: pre-wrap;\">, </span> <span style=\"font-size: 11pt; font-family: Arial; color: rgb(35, 38, 41); background-color: transparent; font-style: italic; font-variant-numeric: normal; font-variant-east-asian: normal; vertical-align: baseline; white-space: pre-wrap;\">name</span><span style=\"font-size: 11pt; font-family: Arial; color: rgb(35, 38, 41); background-color: transparent; font-variant-numeric: normal; font-variant-east-asian: normal; vertical-align: baseline; white-space: pre-wrap;\">: </span> <span style=\"font-size: 11pt; font-family: Arial; color: rgb(35, 38, 41); background-color: transparent; font-weight: 700; font-variant-numeric: normal; font-variant-east-asian: normal; vertical-align: baseline; white-space: pre-wrap;\">string</span><span style=\"font-size: 11pt; font-family: Arial; color: rgb(35, 38, 41); background-color: transparent; font-variant-numeric: normal; font-variant-east-asian: normal; vertical-align: baseline; white-space: pre-wrap;\">, </span> <span style=\"font-size: 11pt; font-family: Arial; color: rgb(35, 38, 41); background-color: transparent; font-style: italic; font-variant-numeric: normal; font-variant-east-asian: normal; vertical-align: baseline; white-space: pre-wrap;\">countryOfResidence</span><span style=\"font-size: 11pt; font-family: Arial; color: rgb(35, 38, 41); background-color: transparent; font-variant-numeric: normal; font-variant-east-asian: normal; vertical-align: baseline; white-space: pre-wrap;\">: </span> <span style=\"font-size: 11pt; font-family: Arial; color: rgb(35, 38, 41); background-color: transparent; font-weight: 700; font-variant-numeric: normal; font-variant-east-asian: normal; vertical-align: baseline; white-space: pre-wrap;\">string</span><span style=\"font-size: 11pt; font-family: Arial; color: rgb(35, 38, 41); background-color: transparent; font-variant-numeric: normal; font-variant-east-asian: normal; vertical-align: baseline; white-space: pre-wrap;\">, </span> <span style=\"font-size: 11pt; font-family: Arial; color: rgb(35, 38, 41); background-color: transparent; font-style: italic; font-variant-numeric: normal; font-variant-east-asian: normal; vertical-align: baseline; white-space: pre-wrap;\">age</span><span style=\"font-size: 11pt; font-family: Arial; color: rgb(35, 38, 41); background-color: transparent; font-variant-numeric: normal; font-variant-east-asian: normal; vertical-align: baseline; white-space: pre-wrap;\">: </span> <span style=\"font-size: 11pt; font-family: Arial; color: rgb(35, 38, 41); background-color: transparent; font-weight: 700; font-variant-numeric: normal; font-variant-east-asian: normal; vertical-align: baseline; white-space: pre-wrap;\">integer</span><span style=\"font-size: 11pt; font-family: Arial; color: rgb(35, 38, 41); background-color: transparent; font-variant-numeric: normal; font-variant-east-asian: normal; vertical-align: baseline; white-space: pre-wrap;\">, </span> <span style=\"font-size: 11pt; font-family: Arial; color: rgb(35, 38, 41); background-color: transparent; font-style: italic; font-variant-numeric: normal; font-variant-east-asian: normal; vertical-align: baseline; white-space: pre-wrap;\">frequentTravelerStatus</span><span style=\"font-size: 11pt; font-family: Arial; color: rgb(35, 38, 41); background-color: transparent; font-variant-numeric: normal; font-variant-east-asian: normal; vertical-align: baseline; white-space: pre-wrap;\">: </span> <span style=\"font-size: 11pt; font-family: Arial; color: rgb(35, 38, 41); background-color: transparent; font-weight: 700; font-variant-numeric: normal; font-variant-east-asian: normal; vertical-align: baseline; white-space: pre-wrap;\">string</span><span style=\"font-size: 11pt; font-family: Arial; color: rgb(35, 38, 41); background-color: transparent; font-variant-numeric: normal; font-variant-east-asian: normal; vertical-align: baseline; white-space: pre-wrap;\">)</span>\n",
                "\n",
                "<span style=\"font-size: 11pt; font-family: Arial; color: rgb(35, 38, 41); background-color: transparent; font-variant-numeric: normal; font-variant-east-asian: normal; vertical-align: baseline; white-space: pre-wrap;\">Tour(</span><span style=\"font-size: 11pt; font-family: Arial; color: rgb(35, 38, 41); background-color: transparent; font-style: italic; font-variant-numeric: normal; font-variant-east-asian: normal; vertical-align: baseline; white-space: pre-wrap;\">tid</span><span style=\"font-size: 11pt; font-family: Arial; color: rgb(35, 38, 41); background-color: transparent; font-variant-numeric: normal; font-variant-east-asian: normal; vertical-align: baseline; white-space: pre-wrap;\">: </span> <span style=\"font-size: 11pt; font-family: Arial; color: rgb(35, 38, 41); background-color: transparent; font-weight: 700; font-variant-numeric: normal; font-variant-east-asian: normal; vertical-align: baseline; white-space: pre-wrap;\">integer</span><span style=\"font-size: 11pt; font-family: Arial; color: rgb(35, 38, 41); background-color: transparent; font-variant-numeric: normal; font-variant-east-asian: normal; vertical-align: baseline; white-space: pre-wrap;\">, </span> <span style=\"font-size: 11pt; font-family: Arial; color: rgb(35, 38, 41); background-color: transparent; font-style: italic; font-variant-numeric: normal; font-variant-east-asian: normal; vertical-align: baseline; white-space: pre-wrap;\">tourName</span><span style=\"font-size: 11pt; font-family: Arial; color: rgb(35, 38, 41); background-color: transparent; font-variant-numeric: normal; font-variant-east-asian: normal; vertical-align: baseline; white-space: pre-wrap;\">: </span> <span style=\"font-size: 11pt; font-family: Arial; color: rgb(35, 38, 41); background-color: transparent; font-weight: 700; font-variant-numeric: normal; font-variant-east-asian: normal; vertical-align: baseline; white-space: pre-wrap;\">string</span><span style=\"font-size: 11pt; font-family: Arial; color: rgb(35, 38, 41); background-color: transparent; font-variant-numeric: normal; font-variant-east-asian: normal; vertical-align: baseline; white-space: pre-wrap;\">, </span> <span style=\"font-size: 11pt; font-family: Arial; color: rgb(35, 38, 41); background-color: transparent; font-style: italic; font-variant-numeric: normal; font-variant-east-asian: normal; vertical-align: baseline; white-space: pre-wrap;\">destinationCountry</span><span style=\"font-size: 11pt; font-family: Arial; color: rgb(35, 38, 41); background-color: transparent; font-variant-numeric: normal; font-variant-east-asian: normal; vertical-align: baseline; white-space: pre-wrap;\">: </span> <span style=\"font-size: 11pt; font-family: Arial; color: rgb(35, 38, 41); background-color: transparent; font-weight: 700; font-variant-numeric: normal; font-variant-east-asian: normal; vertical-align: baseline; white-space: pre-wrap;\">string</span><span style=\"font-size: 11pt; font-family: Arial; color: rgb(35, 38, 41); background-color: transparent; font-variant-numeric: normal; font-variant-east-asian: normal; vertical-align: baseline; white-space: pre-wrap;\">, </span> <span style=\"font-size: 11pt; font-family: Arial; color: rgb(35, 38, 41); background-color: transparent; font-style: italic; font-variant-numeric: normal; font-variant-east-asian: normal; vertical-align: baseline; white-space: pre-wrap;\">tourDate</span><span style=\"font-size: 11pt; font-family: Arial; color: rgb(35, 38, 41); background-color: transparent; font-variant-numeric: normal; font-variant-east-asian: normal; vertical-align: baseline; white-space: pre-wrap;\">: </span> <span style=\"font-size: 11pt; font-family: Arial; color: rgb(35, 38, 41); background-color: transparent; font-weight: 700; font-variant-numeric: normal; font-variant-east-asian: normal; vertical-align: baseline; white-space: pre-wrap;\">date</span><span style=\"font-size: 11pt; font-family: Arial; color: rgb(35, 38, 41); background-color: transparent; font-variant-numeric: normal; font-variant-east-asian: normal; vertical-align: baseline; white-space: pre-wrap;\">, </span> <span style=\"font-size: 11pt; font-family: Arial; color: rgb(35, 38, 41); background-color: transparent; font-style: italic; font-variant-numeric: normal; font-variant-east-asian: normal; vertical-align: baseline; white-space: pre-wrap;\">tgid</span><span style=\"font-size: 11pt; font-family: Arial; color: rgb(35, 38, 41); background-color: transparent; font-variant-numeric: normal; font-variant-east-asian: normal; vertical-align: baseline; white-space: pre-wrap;\">: </span> <span style=\"font-size: 11pt; font-family: Arial; color: rgb(35, 38, 41); background-color: transparent; font-weight: 700; font-variant-numeric: normal; font-variant-east-asian: normal; vertical-align: baseline; white-space: pre-wrap;\">integer</span><span style=\"font-size: 11pt; font-family: Arial; color: rgb(35, 38, 41); background-color: transparent; font-variant-numeric: normal; font-variant-east-asian: normal; vertical-align: baseline; white-space: pre-wrap;\">)</span>\n",
                "\n",
                "<span style=\"font-size: 11pt; font-family: Arial; color: rgb(35, 38, 41); background-color: transparent; font-variant-numeric: normal; font-variant-east-asian: normal; vertical-align: baseline; white-space: pre-wrap;\">Ordered(</span><span style=\"font-size: 11pt; font-family: Arial; color: rgb(35, 38, 41); background-color: transparent; font-style: italic; font-variant-numeric: normal; font-variant-east-asian: normal; vertical-align: baseline; white-space: pre-wrap;\">cid</span><span style=\"font-size: 11pt; font-family: Arial; color: rgb(35, 38, 41); background-color: transparent; font-variant-numeric: normal; font-variant-east-asian: normal; vertical-align: baseline; white-space: pre-wrap;\">: </span> <span style=\"font-size: 11pt; font-family: Arial; color: rgb(35, 38, 41); background-color: transparent; font-weight: 700; font-variant-numeric: normal; font-variant-east-asian: normal; vertical-align: baseline; white-space: pre-wrap;\">integer</span><span style=\"font-size: 11pt; font-family: Arial; color: rgb(35, 38, 41); background-color: transparent; font-variant-numeric: normal; font-variant-east-asian: normal; vertical-align: baseline; white-space: pre-wrap;\">, </span> <span style=\"font-size: 11pt; font-family: Arial; color: rgb(35, 38, 41); background-color: transparent; font-style: italic; font-variant-numeric: normal; font-variant-east-asian: normal; vertical-align: baseline; white-space: pre-wrap;\">tid</span><span style=\"font-size: 11pt; font-family: Arial; color: rgb(35, 38, 41); background-color: transparent; font-variant-numeric: normal; font-variant-east-asian: normal; vertical-align: baseline; white-space: pre-wrap;\">: </span> <span style=\"font-size: 11pt; font-family: Arial; color: rgb(35, 38, 41); background-color: transparent; font-weight: 700; font-variant-numeric: normal; font-variant-east-asian: normal; vertical-align: baseline; white-space: pre-wrap;\">integer</span><span style=\"font-size: 11pt; font-family: Arial; color: rgb(35, 38, 41); background-color: transparent; font-variant-numeric: normal; font-variant-east-asian: normal; vertical-align: baseline; white-space: pre-wrap;\">)</span>\n",
                "\n",
                "<span style=\"font-size: 11pt; font-family: Arial; color: rgb(35, 38, 41); background-color: transparent; font-variant-numeric: normal; font-variant-east-asian: normal; vertical-align: baseline; white-space: pre-wrap;\">TourGuide(</span><span style=\"font-size: 11pt; font-family: Arial; color: rgb(35, 38, 41); background-color: transparent; font-style: italic; font-variant-numeric: normal; font-variant-east-asian: normal; vertical-align: baseline; white-space: pre-wrap;\">tgid</span><span style=\"font-size: 11pt; font-family: Arial; color: rgb(35, 38, 41); background-color: transparent; font-variant-numeric: normal; font-variant-east-asian: normal; vertical-align: baseline; white-space: pre-wrap;\">: </span> <span style=\"font-size: 11pt; font-family: Arial; color: rgb(35, 38, 41); background-color: transparent; font-weight: 700; font-variant-numeric: normal; font-variant-east-asian: normal; vertical-align: baseline; white-space: pre-wrap;\">integer</span><span style=\"font-size: 11pt; font-family: Arial; color: rgb(35, 38, 41); background-color: transparent; font-variant-numeric: normal; font-variant-east-asian: normal; vertical-align: baseline; white-space: pre-wrap;\">, name: </span> <span style=\"font-size: 11pt; font-family: Arial; color: rgb(35, 38, 41); background-color: transparent; font-weight: 700; font-variant-numeric: normal; font-variant-east-asian: normal; vertical-align: baseline; white-space: pre-wrap;\">string</span><span style=\"font-size: 11pt; font-family: Arial; color: rgb(35, 38, 41); background-color: transparent; font-variant-numeric: normal; font-variant-east-asian: normal; vertical-align: baseline; white-space: pre-wrap;\">, </span> <span style=\"font-size: 11pt; font-family: Arial; color: rgb(35, 38, 41); background-color: transparent; font-style: italic; font-variant-numeric: normal; font-variant-east-asian: normal; vertical-align: baseline; white-space: pre-wrap;\">seniorityLevel</span><span style=\"font-size: 11pt; font-family: Arial; color: rgb(35, 38, 41); background-color: transparent; font-variant-numeric: normal; font-variant-east-asian: normal; vertical-align: baseline; white-space: pre-wrap;\">: </span> <span style=\"font-size: 11pt; font-family: Arial; color: rgb(35, 38, 41); background-color: transparent; font-weight: 700; font-variant-numeric: normal; font-variant-east-asian: normal; vertical-align: baseline; white-space: pre-wrap;\">string</span><span style=\"font-size: 11pt; font-family: Arial; color: rgb(35, 38, 41); background-color: transparent; font-variant-numeric: normal; font-variant-east-asian: normal; vertical-align: baseline; white-space: pre-wrap;\">)</span>\n",
                "\n",
                "<span style=\"font-size: 11pt; font-family: Arial; color: rgb(35, 38, 41); background-color: transparent; font-variant-numeric: normal; font-variant-east-asian: normal; vertical-align: baseline; white-space: pre-wrap;\">The meaning and relations between these tables is straightforward. For example, Ordered has one record per customer-tour pair such that the customer has ordered a given tour.</span>\n",
                "\n",
                "<span style=\"font-size: 11pt; font-family: Arial; color: rgb(35, 38, 41); background-color: transparent; font-variant-numeric: normal; font-variant-east-asian: normal; vertical-align: baseline; white-space: pre-wrap;\">Write the following SQL queries. No duplicates should be printed in any of the answers. Please also format the SQL code accordingly.</span>"
            ],
            "metadata": {
                "azdata_cell_guid": "923fe9f5-bd6f-40a6-bf5b-88fd01b467a9"
            },
            "attachments": {}
        },
        {
            "cell_type": "markdown",
            "source": [
                "<span style=\"background-color: transparent; font-size: 11pt; font-family: Arial; color: rgb(35, 38, 41); font-variant-numeric: normal; font-variant-east-asian: normal; vertical-align: baseline; white-space: pre-wrap;\">1. Find the names and ids of all customers with frequent traveler status </span> <span style=\"background-color: transparent; font-size: 11pt; font-family: Arial; color: rgb(35, 38, 41); font-style: italic; font-variant-numeric: normal; font-variant-east-asian: normal; vertical-align: baseline; white-space: pre-wrap;\">silver </span> <span style=\"background-color: transparent; font-size: 11pt; font-family: Arial; color: rgb(35, 38, 41); font-variant-numeric: normal; font-variant-east-asian: normal; vertical-align: baseline; white-space: pre-wrap;\">who have ordered a tour that is guided by </span> <span style=\"background-color: transparent; font-size: 11pt; font-family: Arial; color: rgb(35, 38, 41); font-style: italic; font-variant-numeric: normal; font-variant-east-asian: normal; vertical-align: baseline; white-space: pre-wrap;\">B. Grylls</span><span style=\"background-color: transparent; font-size: 11pt; font-family: Arial; color: rgb(35, 38, 41); font-variant-numeric: normal; font-variant-east-asian: normal; vertical-align: baseline; white-space: pre-wrap;\">.</span>"
            ],
            "metadata": {
                "azdata_cell_guid": "7d428f34-9883-4ee2-8f2a-db38e2e1a9d9"
            },
            "attachments": {}
        },
        {
            "cell_type": "code",
            "source": [
                "-- More optimized(left join) than inner join, due to involvment of concerned columns only \n",
                "SELECT c.name AS customerName, c.cid AS customerId \n",
                "FROM Customer c \n",
                "LEFT JOIN Ordered o ON c.cid = o.cid\n",
                "INNER JOIN Tour t ON o.tid = t.tid\n",
                "INNER JOIN TourGuide tg ON t.tgid = tg.tgid\n",
                "WHERE tg.name = 'B. Grylls'\n",
                "AND c.frequentTravelerStatus = 'silver'"
            ],
            "metadata": {
                "azdata_cell_guid": "b0d19046-dada-426e-9cd8-5a7fde2f36d8",
                "language": "sql",
                "tags": []
            },
            "outputs": [
                {
                    "output_type": "display_data",
                    "data": {
                        "text/html": "(1 row affected)"
                    },
                    "metadata": {}
                },
                {
                    "output_type": "display_data",
                    "data": {
                        "text/html": "Total execution time: 00:00:00.038"
                    },
                    "metadata": {}
                },
                {
                    "output_type": "execute_result",
                    "metadata": {},
                    "execution_count": 148,
                    "data": {
                        "application/vnd.dataresource+json": {
                            "schema": {
                                "fields": [
                                    {
                                        "name": "customerName"
                                    },
                                    {
                                        "name": "customerId"
                                    }
                                ]
                            },
                            "data": [
                                {
                                    "0": "Sabina",
                                    "1": "2"
                                }
                            ]
                        },
                        "text/html": [
                            "<table>",
                            "<tr><th>customerName</th><th>customerId</th></tr>",
                            "<tr><td>Sabina</td><td>2</td></tr>",
                            "</table>"
                        ]
                    }
                }
            ],
            "execution_count": 148
        },
        {
            "cell_type": "markdown",
            "source": [
                "<span style=\"font-family: Calibri; font-size: 11pt;\">2. Find the age of the oldest customer who either lives in </span> <span style=\"font-family: Calibri; font-size: 11pt; font-style: italic;\">Germany </span> <span style=\"font-family: Calibri; font-size: 11pt;\">or has ordered a tour guided by </span> <span style=\"font-family: Calibri; font-size: 11pt; font-style: italic;\">B. Grylls</span><span style=\"font-family: Calibri; font-size: 11pt;\">.&nbsp;</span>"
            ],
            "metadata": {
                "language": "sql",
                "azdata_cell_guid": "b461d729-dbf6-484b-addc-551cd592fd2d"
            },
            "attachments": {}
        },
        {
            "cell_type": "code",
            "source": [
                "SELECT MAX(c.age) AS oldestCustomerAge\n",
                "FROM Customer c \n",
                "WHERE c.countryOfResidence = 'Germany'\n",
                "OR EXISTS \n",
                "(\n",
                "    Select o.cid\n",
                "    FROM  Ordered o\n",
                "    JOIN Tour t ON o.tid = t.tid\n",
                "    JOIN TourGuide tg ON t.tgid = tg.tgid\n",
                "    WHERE c.cid = o.cid\n",
                "    AND tg.name = 'B. Grylls'\n",
                ")"
            ],
            "metadata": {
                "language": "sql",
                "azdata_cell_guid": "05eb6853-e9e0-462c-9683-5b9211fe61ae",
                "tags": []
            },
            "outputs": [
                {
                    "output_type": "display_data",
                    "data": {
                        "text/html": "(1 row affected)"
                    },
                    "metadata": {}
                },
                {
                    "output_type": "display_data",
                    "data": {
                        "text/html": "Total execution time: 00:00:00.049"
                    },
                    "metadata": {}
                },
                {
                    "output_type": "execute_result",
                    "metadata": {},
                    "execution_count": 149,
                    "data": {
                        "application/vnd.dataresource+json": {
                            "schema": {
                                "fields": [
                                    {
                                        "name": "oldestCustomerAge"
                                    }
                                ]
                            },
                            "data": [
                                {
                                    "0": "70"
                                }
                            ]
                        },
                        "text/html": [
                            "<table>",
                            "<tr><th>oldestCustomerAge</th></tr>",
                            "<tr><td>70</td></tr>",
                            "</table>"
                        ]
                    }
                }
            ],
            "execution_count": 149
        },
        {
            "cell_type": "markdown",
            "source": [
                "<span style=\"font-family: Calibri; font-size: 11pt;\">3. Find the names of all tours (</span><span style=\"font-family: Calibri; font-size: 11pt; font-style: italic;\">tourName</span><span style=\"font-family: Calibri; font-size: 11pt;\">) that either go to </span> <span style=\"font-family: Calibri; font-size: 11pt; font-style: italic;\">Oman </span> <span style=\"font-family: Calibri; font-size: 11pt;\">or have been ordered by five or more customers.&nbsp;</span>"
            ],
            "metadata": {
                "language": "sql",
                "azdata_cell_guid": "06797f6e-72d1-4adb-8cd0-feb730e62d26"
            },
            "attachments": {}
        },
        {
            "cell_type": "code",
            "source": [
                "SELECT DISTINCT(t.tourName)\n",
                "FROM Tour t\n",
                "WHERE t.destinationCountry = 'Oman'\n",
                "OR t.tourName IN\n",
                "(\n",
                "    SELECT t.tourName\n",
                "    FROM Ordered o \n",
                "    JOIN Tour t ON o.tid = t.tid\n",
                "    GROUP BY t.tourName\n",
                "    HAVING COUNT(t.tourName) >= 5\n",
                ")"
            ],
            "metadata": {
                "language": "sql",
                "azdata_cell_guid": "60c876ca-e52c-485b-8421-874e83792d30"
            },
            "outputs": [
                {
                    "output_type": "display_data",
                    "data": {
                        "text/html": "(2 rows affected)"
                    },
                    "metadata": {}
                },
                {
                    "output_type": "display_data",
                    "data": {
                        "text/html": "Total execution time: 00:00:00.128"
                    },
                    "metadata": {}
                },
                {
                    "output_type": "execute_result",
                    "metadata": {},
                    "execution_count": 150,
                    "data": {
                        "application/vnd.dataresource+json": {
                            "schema": {
                                "fields": [
                                    {
                                        "name": "tourName"
                                    }
                                ]
                            },
                            "data": [
                                {
                                    "0": "Bosnian Pyramid of the Sun"
                                },
                                {
                                    "0": "DesertRose"
                                }
                            ]
                        },
                        "text/html": [
                            "<table>",
                            "<tr><th>tourName</th></tr>",
                            "<tr><td>Bosnian Pyramid of the Sun</td></tr>",
                            "<tr><td>DesertRose</td></tr>",
                            "</table>"
                        ]
                    }
                }
            ],
            "execution_count": 150
        },
        {
            "cell_type": "markdown",
            "source": [
                "<span style=\"font-size: 11pt; font-family: Calibri;\">4. Find the names and ids of all customers who have ordered two tours that happen on the same date.&nbsp;</span>"
            ],
            "metadata": {
                "language": "sql",
                "azdata_cell_guid": "ebd285cc-772b-4def-943d-f0d44b318fd7"
            },
            "attachments": {}
        },
        {
            "cell_type": "code",
            "source": [
                "SELECT c.name AS name, c.cid AS id \n",
                "FROM Customer c\n",
                "LEFT JOIN Ordered o ON c.cid = o.cid\n",
                "JOIN Tour t ON o.tid = t.tid\n",
                "GROUP BY c.name, c.cid, t.tourDate\n",
                "HAVING COUNT(c.cid) = 2 "
            ],
            "metadata": {
                "language": "sql",
                "azdata_cell_guid": "623f3f82-7430-4d0a-8d7d-8567d3615450"
            },
            "outputs": [
                {
                    "output_type": "display_data",
                    "data": {
                        "text/html": "(3 rows affected)"
                    },
                    "metadata": {}
                },
                {
                    "output_type": "display_data",
                    "data": {
                        "text/html": "Total execution time: 00:00:00.036"
                    },
                    "metadata": {}
                },
                {
                    "output_type": "execute_result",
                    "metadata": {},
                    "execution_count": 151,
                    "data": {
                        "application/vnd.dataresource+json": {
                            "schema": {
                                "fields": [
                                    {
                                        "name": "name"
                                    },
                                    {
                                        "name": "id"
                                    }
                                ]
                            },
                            "data": [
                                {
                                    "0": "Linda",
                                    "1": "1"
                                },
                                {
                                    "0": "Sabina",
                                    "1": "2"
                                },
                                {
                                    "0": "John",
                                    "1": "3"
                                }
                            ]
                        },
                        "text/html": [
                            "<table>",
                            "<tr><th>name</th><th>id</th></tr>",
                            "<tr><td>Linda</td><td>1</td></tr>",
                            "<tr><td>Sabina</td><td>2</td></tr>",
                            "<tr><td>John</td><td>3</td></tr>",
                            "</table>"
                        ]
                    }
                }
            ],
            "execution_count": 151
        },
        {
            "cell_type": "markdown",
            "source": [
                "<span style=\"font-size: 11pt; font-family: Calibri;\">5. Find the names and ids of all tour guides who guide tours in all destination countries in which a tour is organized.</span>"
            ],
            "metadata": {
                "language": "sql",
                "azdata_cell_guid": "904c5297-f23c-4753-a1d0-3ce86b216bc3"
            },
            "attachments": {}
        },
        {
            "cell_type": "code",
            "source": [
                "SELECT tg.name, tg.tgid AS id\n",
                "FROM TourGuide tg\n",
                "JOIN Tour t ON tg.tgid = t.tgid \n",
                "GROUP BY tg.name, tg.tgid\n",
                "HAVING COUNT(DISTINCT(destinationCountry)) =  (SELECT COUNT(DISTINCT(destinationCountry)) FROM Tour)"
            ],
            "metadata": {
                "language": "sql",
                "azdata_cell_guid": "059f6a59-bb3a-4683-869e-82b53b21fac6"
            },
            "outputs": [
                {
                    "output_type": "display_data",
                    "data": {
                        "text/html": "(1 row affected)"
                    },
                    "metadata": {}
                },
                {
                    "output_type": "display_data",
                    "data": {
                        "text/html": "Total execution time: 00:00:00.034"
                    },
                    "metadata": {}
                },
                {
                    "output_type": "execute_result",
                    "metadata": {},
                    "execution_count": 152,
                    "data": {
                        "application/vnd.dataresource+json": {
                            "schema": {
                                "fields": [
                                    {
                                        "name": "name"
                                    },
                                    {
                                        "name": "id"
                                    }
                                ]
                            },
                            "data": [
                                {
                                    "0": "Kamber",
                                    "1": "1"
                                }
                            ]
                        },
                        "text/html": [
                            "<table>",
                            "<tr><th>name</th><th>id</th></tr>",
                            "<tr><td>Kamber</td><td>1</td></tr>",
                            "</table>"
                        ]
                    }
                }
            ],
            "execution_count": 152
        },
        {
            "cell_type": "markdown",
            "source": [
                "<span style=\"font-size: 11pt; font-family: Calibri;\">6. Find the names and ids of all tour guides for whom the combined enrollment to the tours that they are guiding is less than three.&nbsp;</span>"
            ],
            "metadata": {
                "language": "sql",
                "azdata_cell_guid": "767d28bc-4a41-409a-97cb-defe3efd72df"
            },
            "attachments": {}
        },
        {
            "cell_type": "code",
            "source": [
                "SELECT tg.name, tg.tgid AS id\n",
                "FROM TourGuide tg\n",
                "JOIN Tour t ON tg.tgid = t.tgid \n",
                "GROUP BY tg.name, tg.tgid\n",
                "HAVING COUNT(t.tid) <3"
            ],
            "metadata": {
                "language": "sql",
                "azdata_cell_guid": "7c538df6-483c-47fa-b27d-9dfefc1cd253"
            },
            "outputs": [
                {
                    "output_type": "display_data",
                    "data": {
                        "text/html": "(4 rows affected)"
                    },
                    "metadata": {}
                },
                {
                    "output_type": "display_data",
                    "data": {
                        "text/html": "Total execution time: 00:00:00.024"
                    },
                    "metadata": {}
                },
                {
                    "output_type": "execute_result",
                    "metadata": {},
                    "execution_count": 153,
                    "data": {
                        "application/vnd.dataresource+json": {
                            "schema": {
                                "fields": [
                                    {
                                        "name": "name"
                                    },
                                    {
                                        "name": "id"
                                    }
                                ]
                            },
                            "data": [
                                {
                                    "0": "Manuel",
                                    "1": "2"
                                },
                                {
                                    "0": "B. Grylls",
                                    "1": "3"
                                },
                                {
                                    "0": "David",
                                    "1": "4"
                                },
                                {
                                    "0": "RandomGuy",
                                    "1": "5"
                                }
                            ]
                        },
                        "text/html": [
                            "<table>",
                            "<tr><th>name</th><th>id</th></tr>",
                            "<tr><td>Manuel</td><td>2</td></tr>",
                            "<tr><td>B. Grylls</td><td>3</td></tr>",
                            "<tr><td>David</td><td>4</td></tr>",
                            "<tr><td>RandomGuy</td><td>5</td></tr>",
                            "</table>"
                        ]
                    }
                }
            ],
            "execution_count": 153
        },
        {
            "cell_type": "markdown",
            "source": [
                "7. <span style=\"font-family: Calibri; font-size: 11pt;\">For all customers that are older than 40 years, group the frequent traveler status and show the average age of customers with that status but only if the average age is below 50&nbsp;</span>"
            ],
            "metadata": {
                "language": "sql",
                "azdata_cell_guid": "d0071cf3-31cd-46e4-a77c-5b6becacd070"
            },
            "attachments": {}
        },
        {
            "cell_type": "code",
            "source": [
                "SELECT frequentTravelerStatus, AVG(age) AS averageAge\n",
                "FROM Customer \n",
                "Where age > 40\n",
                "GROUP By frequentTravelerStatus\n",
                "HAVING AVG(age)  < 50"
            ],
            "metadata": {
                "language": "sql",
                "azdata_cell_guid": "25e2826a-973d-4c41-8af6-8468a81a3994"
            },
            "outputs": [
                {
                    "output_type": "display_data",
                    "data": {
                        "text/html": "(1 row affected)"
                    },
                    "metadata": {}
                },
                {
                    "output_type": "display_data",
                    "data": {
                        "text/html": "Total execution time: 00:00:00.025"
                    },
                    "metadata": {}
                },
                {
                    "output_type": "execute_result",
                    "metadata": {},
                    "execution_count": 154,
                    "data": {
                        "application/vnd.dataresource+json": {
                            "schema": {
                                "fields": [
                                    {
                                        "name": "frequentTravelerStatus"
                                    },
                                    {
                                        "name": "averageAge"
                                    }
                                ]
                            },
                            "data": [
                                {
                                    "0": "silver",
                                    "1": "46"
                                }
                            ]
                        },
                        "text/html": [
                            "<table>",
                            "<tr><th>frequentTravelerStatus</th><th>averageAge</th></tr>",
                            "<tr><td>silver</td><td>46</td></tr>",
                            "</table>"
                        ]
                    }
                }
            ],
            "execution_count": 154
        },
        {
            "cell_type": "markdown",
            "source": [
                "<span style=\"font-family: Calibri; font-size: 11pt;\">8. For each tour guide who guides tours only in Oman</span><span style=\"font-family: Calibri; font-size: 11pt;\">, print the guide’s name, id and the total </span> <span style=\"font-family: Calibri; font-size: 11pt;\">number of tours he or she is guiding.&nbsp;</span>"
            ],
            "metadata": {
                "language": "sql",
                "azdata_cell_guid": "4c3f0aaf-440e-40ed-9bdd-56e15c5c7347"
            },
            "attachments": {}
        },
        {
            "cell_type": "code",
            "source": [
                "SELECT tg.name, tg.tgid AS id, COUNT(name) AS totalTour\n",
                "FROM TourGuide tg\n",
                "JOIN Tour t ON tg.tgid = t.tgid \n",
                "AND t.destinationCountry = 'Oman' \n",
                "GROUP BY tg.name, tg.tgid"
            ],
            "metadata": {
                "language": "sql",
                "azdata_cell_guid": "670317ea-f9fb-45a2-bf96-e7ba0a1b3438"
            },
            "outputs": [
                {
                    "output_type": "display_data",
                    "data": {
                        "text/html": "(3 rows affected)"
                    },
                    "metadata": {}
                },
                {
                    "output_type": "display_data",
                    "data": {
                        "text/html": "Total execution time: 00:00:00.025"
                    },
                    "metadata": {}
                },
                {
                    "output_type": "execute_result",
                    "metadata": {},
                    "execution_count": 155,
                    "data": {
                        "application/vnd.dataresource+json": {
                            "schema": {
                                "fields": [
                                    {
                                        "name": "name"
                                    },
                                    {
                                        "name": "id"
                                    },
                                    {
                                        "name": "totalTour"
                                    }
                                ]
                            },
                            "data": [
                                {
                                    "0": "Kamber",
                                    "1": "1",
                                    "2": "1"
                                },
                                {
                                    "0": "David",
                                    "1": "4",
                                    "2": "1"
                                },
                                {
                                    "0": "RandomGuy",
                                    "1": "5",
                                    "2": "2"
                                }
                            ]
                        },
                        "text/html": [
                            "<table>",
                            "<tr><th>name</th><th>id</th><th>totalTour</th></tr>",
                            "<tr><td>Kamber</td><td>1</td><td>1</td></tr>",
                            "<tr><td>David</td><td>4</td><td>1</td></tr>",
                            "<tr><td>RandomGuy</td><td>5</td><td>2</td></tr>",
                            "</table>"
                        ]
                    }
                }
            ],
            "execution_count": 155
        },
        {
            "cell_type": "markdown",
            "source": [
                "<span style=\"font-family: Calibri; font-size: 11pt;\">9. Find the names and ids of customers who have ordered all tours (</span><span style=\"font-family: Calibri; font-size: 11pt; font-style: italic;\">tourName</span><span style=\"font-family: Calibri; font-size: 11pt;\">).&nbsp;</span>"
            ],
            "metadata": {
                "language": "sql",
                "azdata_cell_guid": "d8485035-e9b9-4440-a906-dae95dbedde5"
            },
            "attachments": {}
        },
        {
            "cell_type": "code",
            "source": [
                "SELECT c.name, c.cid AS id\n",
                "FROM Customer c\n",
                "JOIN Ordered o ON c.cid = o.cid\n",
                "JOIN Tour t ON o.tid = t.tid \n",
                "GROUP BY c.name, c.cid\n",
                "HAVING COUNT(DISTINCT(tourName)) =  (SELECT COUNT(DISTINCT(tourName)) FROM Tour)"
            ],
            "metadata": {
                "language": "sql",
                "azdata_cell_guid": "68abf605-05d2-45ac-ac28-54e901bdfaf1"
            },
            "outputs": [
                {
                    "output_type": "display_data",
                    "data": {
                        "text/html": "(1 row affected)"
                    },
                    "metadata": {}
                },
                {
                    "output_type": "display_data",
                    "data": {
                        "text/html": "Total execution time: 00:00:00.032"
                    },
                    "metadata": {}
                },
                {
                    "output_type": "execute_result",
                    "metadata": {},
                    "execution_count": 156,
                    "data": {
                        "application/vnd.dataresource+json": {
                            "schema": {
                                "fields": [
                                    {
                                        "name": "name"
                                    },
                                    {
                                        "name": "id"
                                    }
                                ]
                            },
                            "data": [
                                {
                                    "0": "Sabina",
                                    "1": "2"
                                }
                            ]
                        },
                        "text/html": [
                            "<table>",
                            "<tr><th>name</th><th>id</th></tr>",
                            "<tr><td>Sabina</td><td>2</td></tr>",
                            "</table>"
                        ]
                    }
                }
            ],
            "execution_count": 156
        },
        {
            "cell_type": "markdown",
            "source": [
                "<span style=\"font-size: 11pt; font-family: Calibri;\">10. Find the names and ids of customers who have not ordered any tour.&nbsp;</span>"
            ],
            "metadata": {
                "language": "sql",
                "azdata_cell_guid": "64e988ec-a415-4ba1-b55a-3fc1e667d308"
            },
            "attachments": {}
        },
        {
            "cell_type": "code",
            "source": [
                "SELECT c.name, c.cid AS id\n",
                "FROM Customer c\n",
                "WHERE c.cid NOT IN (SELECT cid FROM Ordered)"
            ],
            "metadata": {
                "language": "sql",
                "azdata_cell_guid": "88cab71e-8206-4fa8-bf26-0f7820ebd478"
            },
            "outputs": [
                {
                    "output_type": "display_data",
                    "data": {
                        "text/html": "(1 row affected)"
                    },
                    "metadata": {}
                },
                {
                    "output_type": "display_data",
                    "data": {
                        "text/html": "Total execution time: 00:00:00.021"
                    },
                    "metadata": {}
                },
                {
                    "output_type": "execute_result",
                    "metadata": {},
                    "execution_count": 157,
                    "data": {
                        "application/vnd.dataresource+json": {
                            "schema": {
                                "fields": [
                                    {
                                        "name": "name"
                                    },
                                    {
                                        "name": "id"
                                    }
                                ]
                            },
                            "data": [
                                {
                                    "0": "Peter",
                                    "1": "7"
                                }
                            ]
                        },
                        "text/html": [
                            "<table>",
                            "<tr><th>name</th><th>id</th></tr>",
                            "<tr><td>Peter</td><td>7</td></tr>",
                            "</table>"
                        ]
                    }
                }
            ],
            "execution_count": 157
        },
        {
            "cell_type": "markdown",
            "source": [
                "<span style=\"font-size: 11pt;\">11. For each age value that appears in Customers, find the frequent traveler status that people&nbsp;</span> <span style=\"font-family: Calibri; font-size: 11pt;\">with that age have most often. For example, if there are more </span> <span style=\"font-family: Calibri; font-size: 11pt; font-style: italic;\">gold </span> <span style=\"font-family: Calibri; font-size: 11pt;\">customers aged </span> <span style=\"font-family: Calibri; font-size: 11pt; font-style: italic;\">40 </span> <span style=\"font-family: Calibri; font-size: 11pt;\">than </span> <span style=\"font-family: Calibri; font-size: 11pt; font-style: italic;\">silver</span><span style=\"font-family: Calibri; font-size: 11pt;\">, </span> <span style=\"font-family: Calibri; font-size: 11pt; font-style: italic;\">platinum </span> <span style=\"font-family: Calibri; font-size: 11pt;\">or </span> <span style=\"font-family: Calibri; font-size: 11pt; font-style: italic;\">diamond </span> <span style=\"font-family: Calibri; font-size: 11pt;\">customers aged 40, the result should contain the pair (</span><span style=\"font-family: Calibri; font-size: 11pt; font-style: italic;\">40</span><span style=\"font-family: Calibri; font-size: 11pt;\">, </span> <span style=\"font-family: Calibri; font-size: 11pt; font-style: italic;\">gold</span><span style=\"font-family: Calibri; font-size: 11pt;\">).&nbsp;</span>"
            ],
            "metadata": {
                "language": "sql",
                "azdata_cell_guid": "a20708ad-1cd5-44c8-9826-4a13ccc525a1"
            },
            "attachments": {}
        },
        {
            "cell_type": "code",
            "source": [
                "SELECT CONCAT('(', age, ',', frequentTravelerStatus, ')') AS result\n",
                "FROM (\n",
                "  SELECT age, frequentTravelerStatus,\n",
                "         RANK() OVER (PARTITION BY age ORDER BY COUNT(*) DESC) as rank\n",
                "  FROM Customer\n",
                "  GROUP BY age, frequentTravelerStatus\n",
                ") as temp\n",
                "WHERE rank = 1\n",
                "    "
            ],
            "metadata": {
                "language": "sql",
                "azdata_cell_guid": "025fbc87-6636-45f9-854a-30bc2173e2f1",
                "tags": []
            },
            "outputs": [
                {
                    "output_type": "display_data",
                    "data": {
                        "text/html": "(5 rows affected)"
                    },
                    "metadata": {}
                },
                {
                    "output_type": "display_data",
                    "data": {
                        "text/html": "Total execution time: 00:00:00.022"
                    },
                    "metadata": {}
                },
                {
                    "output_type": "execute_result",
                    "metadata": {},
                    "execution_count": 158,
                    "data": {
                        "application/vnd.dataresource+json": {
                            "schema": {
                                "fields": [
                                    {
                                        "name": "result"
                                    }
                                ]
                            },
                            "data": [
                                {
                                    "0": "(26,diamond)"
                                },
                                {
                                    "0": "(45,diamond)"
                                },
                                {
                                    "0": "(46,silver)"
                                },
                                {
                                    "0": "(66,platinum)"
                                },
                                {
                                    "0": "(70,diamond)"
                                }
                            ]
                        },
                        "text/html": [
                            "<table>",
                            "<tr><th>result</th></tr>",
                            "<tr><td>(26,diamond)</td></tr>",
                            "<tr><td>(45,diamond)</td></tr>",
                            "<tr><td>(46,silver)</td></tr>",
                            "<tr><td>(66,platinum)</td></tr>",
                            "<tr><td>(70,diamond)</td></tr>",
                            "</table>"
                        ]
                    }
                }
            ],
            "execution_count": 158
        }
    ]
}